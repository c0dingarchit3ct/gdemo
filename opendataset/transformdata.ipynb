{
 "cells": [
  {
   "cell_type": "code",
   "execution_count": 26,
   "metadata": {
    "collapsed": true
   },
   "outputs": [],
   "source": [
    "import json\n",
    "from pprint import pprint\n",
    "\n",
    "with open('products.json') as data_file:    \n",
    "    data = json.load(data_file)\n",
    "jdata = json.dumps(data, default=lambda product: product.__dict__);\n",
    "\n"
   ]
  },
  {
   "cell_type": "code",
   "execution_count": 27,
   "metadata": {},
   "outputs": [
    {
     "name": "stdout",
     "output_type": "stream",
     "text": [
      "51646\n",
      "41578918\n"
     ]
    }
   ],
   "source": [
    "print (len(data));\n",
    "print (len(jdata));"
   ]
  },
  {
   "cell_type": "code",
   "execution_count": 5,
   "metadata": {},
   "outputs": [
    {
     "name": "stdout",
     "output_type": "stream",
     "text": [
      "{'category': [{'id': 'pcmcat312300050015',\n",
      "               'name': 'Connected Home & Housewares'},\n",
      "              {'id': 'pcmcat248700050021', 'name': 'Housewares'},\n",
      "              {'id': 'pcmcat303600050001', 'name': 'Household Batteries'},\n",
      "              {'id': 'abcat0208002', 'name': 'Alkaline Batteries'}],\n",
      " 'description': 'Long-lasting energy; DURALOCK Power Preserve technology; for '\n",
      "                'toys, clocks, radios, games, remotes, PDAs and more',\n",
      " 'image': 'http://img.bbystatic.com/BestBuy_US/images/products/4853/48530_sa.jpg',\n",
      " 'manufacturer': 'Duracell',\n",
      " 'model': 'MN1500B4Z',\n",
      " 'name': 'Duracell - AA 1.5V CopperTop Batteries (4-Pack)',\n",
      " 'price': 5.49,\n",
      " 'shipping': 5.49,\n",
      " 'sku': 48530,\n",
      " 'type': 'HardGood',\n",
      " 'upc': '041333415017',\n",
      " 'url': 'http://www.bestbuy.com/site/duracell-aa-1-5v-coppertop-batteries-4-pack/48530.p?id=1099385268988&skuId=48530&cmp=RMXCC'}\n"
     ]
    }
   ],
   "source": [
    "pprint (data[1])"
   ]
  },
  {
   "cell_type": "code",
   "execution_count": 7,
   "metadata": {},
   "outputs": [
    {
     "name": "stdout",
     "output_type": "stream",
     "text": [
      "Duracell - AAA Batteries (4-Pack)\n",
      "43900\n"
     ]
    }
   ],
   "source": [
    "print(data[0]['name'])\n",
    "print (data[0][\"sku\"])"
   ]
  },
  {
   "cell_type": "code",
   "execution_count": 35,
   "metadata": {},
   "outputs": [],
   "source": [
    "class Product(object):\n",
    "    name = \"\"\n",
    "    sku = \"\"\n",
    "\n",
    "    # The class \"constructor\" - It's actually an initializer \n",
    "    def __init__(self, name, sku):\n",
    "        self.name = name\n",
    "        self.sku = sku\n",
    "\n",
    "def make_product(name, sku):\n",
    "    p = Product(name, sku)\n",
    "    return p;\n",
    "\n",
    "products = [];\n",
    "index=0;\n",
    "for  p in data:\n",
    "    index=index+1;\n",
    "    product= {}\n",
    "    product[\"name\"]=p[\"name\"];\n",
    "    product[\"sku\"]=p[\"sku\"];\n",
    "    #product = make_product(p[\"name\"],p[\"sku\"])\n",
    "    products.append(product); \n"
   ]
  },
  {
   "cell_type": "code",
   "execution_count": 36,
   "metadata": {},
   "outputs": [],
   "source": [
    "jp = json.dumps(products);\n",
    "#pprint(jp);"
   ]
  },
  {
   "cell_type": "code",
   "execution_count": 37,
   "metadata": {},
   "outputs": [
    {
     "name": "stdout",
     "output_type": "stream",
     "text": [
      "4640848\n",
      "51646\n"
     ]
    }
   ],
   "source": [
    "print (len(jp));\n",
    "print (len(products));"
   ]
  },
  {
   "cell_type": "code",
   "execution_count": 38,
   "metadata": {},
   "outputs": [],
   "source": [
    "with open('autocomplete.json', 'w') as outfile:\n",
    "    json.dump(products, outfile)"
   ]
  },
  {
   "cell_type": "code",
   "execution_count": 39,
   "metadata": {
    "collapsed": true
   },
   "outputs": [],
   "source": [
    "with open('autocomplete.json') as data_file:    \n",
    "    filtered = json.load(data_file)"
   ]
  },
  {
   "cell_type": "code",
   "execution_count": 40,
   "metadata": {},
   "outputs": [
    {
     "name": "stdout",
     "output_type": "stream",
     "text": [
      "51646\n"
     ]
    }
   ],
   "source": [
    "print (len(filtered))"
   ]
  },
  {
   "cell_type": "code",
   "execution_count": null,
   "metadata": {
    "collapsed": true
   },
   "outputs": [],
   "source": []
  }
 ],
 "metadata": {
  "kernelspec": {
   "display_name": "Python 2",
   "language": "python",
   "name": "python2"
  },
  "language_info": {
   "codemirror_mode": {
    "name": "ipython",
    "version": 3
   },
   "file_extension": ".py",
   "mimetype": "text/x-python",
   "name": "python",
   "nbconvert_exporter": "python",
   "pygments_lexer": "ipython3",
   "version": "3.6.0"
  }
 },
 "nbformat": 4,
 "nbformat_minor": 1
}
